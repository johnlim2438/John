{
 "cells": [
  {
   "cell_type": "code",
   "execution_count": 1,
   "metadata": {},
   "outputs": [],
   "source": [
    "import datetime\n",
    "import os\n",
    "import pandas as pd\n",
    "import pypyodbc\n",
    "\n",
    "os.chdir(\"C:/Users/johnlhc/Desktop/volume_forecasting\")"
   ]
  },
  {
   "cell_type": "code",
   "execution_count": 2,
   "metadata": {},
   "outputs": [],
   "source": [
    "CONNECTION = pypyodbc.connect(\"Driver={SQL Server};\"\n",
    "                              \"Server=op2app1;\")"
   ]
  },
  {
   "cell_type": "code",
   "execution_count": 3,
   "metadata": {},
   "outputs": [],
   "source": [
    "# mm/dd/YYYY\n",
    "START_DT = \"12/30/2019\"\n",
    "END_DT = \"01/26/2020\""
   ]
  },
  {
   "cell_type": "markdown",
   "metadata": {},
   "source": [
    "# Helper Functions"
   ]
  },
  {
   "cell_type": "code",
   "execution_count": 4,
   "metadata": {},
   "outputs": [],
   "source": [
    "def convert_to_dt(df, col_list, dt_format):\n",
    "    for col in col_list:\n",
    "        df[col] = pd.to_datetime(df[col], format=dt_format)\n",
    "        \n",
    "    return df\n",
    "\n",
    "def generate_csd(df, consortium, line, service, direction):\n",
    "    df.loc[df[consortium].isna(), \"CSD\"] = (df.loc[df[consortium].isna(), line]\n",
    "                                            + \"-\"\n",
    "                                            + df.loc[df[consortium].isna(), service]\n",
    "                                            + \"-\"\n",
    "                                            + df.loc[df[consortium].isna(), direction])\n",
    "    \n",
    "    df.loc[~df[consortium].isna(), \"CSD\"] = (df.loc[~df[consortium].isna(), consortium]\n",
    "                                             + \"-\"\n",
    "                                             + df.loc[~df[consortium].isna(), service]\n",
    "                                             + \"-\"\n",
    "                                             + df.loc[~df[consortium].isna(), direction])\n",
    "    \n",
    "    return df\n",
    "\n",
    "def define_week_num(df, psa_week, reference_dt_col):\n",
    "    for i, week in psa_week.iterrows():\n",
    "        start_dt = week.loc[\"start_date\"]\n",
    "        end_dt = week.loc[\"end_date\"]\n",
    "        week_num = week.loc[\"week\"]\n",
    "\n",
    "        df.loc[(df[reference_dt_col] >= start_dt) & \n",
    "               (df[reference_dt_col] <= end_dt), \"week\"] = week_num\n",
    "    \n",
    "    df[\"week\"] = df[\"week\"].astype(int)\n",
    "    return df\n",
    "\n",
    "def define_year(df, psa_week, reference_dt_col):\n",
    "    for i, week in psa_week.iterrows():\n",
    "        start_dt = week.loc[\"start_date\"]\n",
    "        end_dt = week.loc[\"end_date\"]\n",
    "        year = week.loc[\"year\"]\n",
    "\n",
    "        df.loc[(df[reference_dt_col] >= start_dt) & \n",
    "               (df[reference_dt_col] <= end_dt), \"year\"] = year\n",
    "    \n",
    "    df[\"year\"] = df[\"year\"].astype(int)\n",
    "    return df\n",
    "\n",
    "def strip_str_cols(df):\n",
    "    df_obj_cols = df.select_dtypes(\"object\").columns\n",
    "    df[df_obj_cols] = df[df_obj_cols].apply(lambda x: x.str.strip())\n",
    "    \n",
    "    return df\n",
    "\n",
    "def generate_general_csd(df):\n",
    "    df[\"general_CSD\"] = df[\"CSD\"].replace(\"[1-9]\", \"\", regex=True)\n",
    "    \n",
    "    return df\n",
    "    \n",
    "    "
   ]
  },
  {
   "cell_type": "markdown",
   "metadata": {},
   "source": [
    "# Plot Function"
   ]
  },
  {
   "cell_type": "markdown",
   "metadata": {},
   "source": [
    "# PSA Week"
   ]
  },
  {
   "cell_type": "markdown",
   "metadata": {},
   "source": [
    "Get Data"
   ]
  },
  {
   "cell_type": "code",
   "execution_count": 5,
   "metadata": {},
   "outputs": [],
   "source": [
    "psa_week_sql = \"SELECT * FROM reportadmin.GLOBAL_PSA_WEEK \\\n",
    "WHERE START_DATE BETWEEN '12/01/2015' AND '06/01/2020'\"#.format(START_DT, END_DT)"
   ]
  },
  {
   "cell_type": "code",
   "execution_count": 6,
   "metadata": {},
   "outputs": [],
   "source": [
    "psa_week = pd.read_sql(psa_week_sql, CONNECTION)"
   ]
  },
  {
   "cell_type": "markdown",
   "metadata": {},
   "source": [
    "Preprocess"
   ]
  },
  {
   "cell_type": "code",
   "execution_count": 7,
   "metadata": {},
   "outputs": [],
   "source": [
    "psa_week[\"start_date\"] = psa_week[\"start_date\"] + datetime.timedelta(hours=0, minutes=0, seconds=0)\n",
    "psa_week[\"end_date\"] = psa_week[\"end_date\"] + datetime.timedelta(hours=23, minutes=59, seconds=59)\n",
    "psa_week = convert_to_dt(df=psa_week, col_list=[\"start_date\", \"end_date\"], dt_format=\"%Y-%m-%d\")\n",
    "psa_week = strip_str_cols(df=psa_week)"
   ]
  },
  {
   "cell_type": "markdown",
   "metadata": {},
   "source": [
    "# Vessel Utilization"
   ]
  },
  {
   "cell_type": "markdown",
   "metadata": {},
   "source": [
    "Get Data"
   ]
  },
  {
   "cell_type": "code",
   "execution_count": 8,
   "metadata": {},
   "outputs": [],
   "source": [
    "vsl_util_sql = \"SELECT * FROM reportadmin.V_PD_VSL_UTILIZATION \\\n",
    "WHERE FIRST_ATB_DT BETWEEN '{}' AND '{}' and vessel_status_x = 'Departed'\".format(START_DT, END_DT)"
   ]
  },
  {
   "cell_type": "code",
   "execution_count": 9,
   "metadata": {},
   "outputs": [],
   "source": [
    "vsl_util = pd.read_sql(vsl_util_sql, CONNECTION)"
   ]
  },
  {
   "cell_type": "markdown",
   "metadata": {},
   "source": [
    "Preprocess"
   ]
  },
  {
   "cell_type": "code",
   "execution_count": 10,
   "metadata": {},
   "outputs": [],
   "source": [
    "vsl_util = convert_to_dt(df=vsl_util, col_list=[\"first_atb_dt\", \"last_atu_dt\"], dt_format=\"%Y-%m-%d %H:%M:%S\")\n",
    "vsl_util = strip_str_cols(df=vsl_util)"
   ]
  },
  {
   "cell_type": "markdown",
   "metadata": {},
   "source": [
    "Generate CSD"
   ]
  },
  {
   "cell_type": "code",
   "execution_count": 11,
   "metadata": {},
   "outputs": [],
   "source": [
    "vsl_util = generate_csd(df=vsl_util,\n",
    "                        consortium=\"consortium_c\",\n",
    "                        line=\"line_c\",\n",
    "                        service=\"service_c\",\n",
    "                        direction=\"direction_c\")"
   ]
  },
  {
   "cell_type": "markdown",
   "metadata": {},
   "source": [
    "Generate General CSD"
   ]
  },
  {
   "cell_type": "code",
   "execution_count": 12,
   "metadata": {},
   "outputs": [],
   "source": [
    "vsl_util = generate_general_csd(df=vsl_util)"
   ]
  },
  {
   "cell_type": "markdown",
   "metadata": {},
   "source": [
    "# Vsl Dtl"
   ]
  },
  {
   "cell_type": "code",
   "execution_count": 13,
   "metadata": {},
   "outputs": [],
   "source": [
    "vsl_dtl_sql = \"SELECT ABBR_VESSEL_M, ABBR_VOYAGE_OUT_N, ABBR_VOYAGE_IN_N, DIRECTION_C \\\n",
    "FROM reportadmin.V_PD_OPS_VSL_DTL \\\n",
    "WHERE ATB_DT BETWEEN '{}' AND '{}' AND (IGB_MODE_I = '' OR IGB_MODE_I Is Null)\\\n",
    "AND (SERVICE_C Is Not Null or SERVICE_C <> '')\".format(START_DT, END_DT)"
   ]
  },
  {
   "cell_type": "code",
   "execution_count": 14,
   "metadata": {},
   "outputs": [],
   "source": [
    "vsl_dtl = pd.read_sql(vsl_dtl_sql, CONNECTION)"
   ]
  },
  {
   "cell_type": "markdown",
   "metadata": {},
   "source": [
    "Preprocess"
   ]
  },
  {
   "cell_type": "code",
   "execution_count": 15,
   "metadata": {},
   "outputs": [],
   "source": [
    "vsl_dtl = strip_str_cols(df=vsl_dtl)"
   ]
  },
  {
   "cell_type": "markdown",
   "metadata": {},
   "source": [
    "# Volume"
   ]
  },
  {
   "cell_type": "markdown",
   "metadata": {},
   "source": [
    "<h3> Discharge </h3>"
   ]
  },
  {
   "cell_type": "code",
   "execution_count": 16,
   "metadata": {},
   "outputs": [],
   "source": [
    "vol_sql_discharge = \"SELECT * FROM reportadmin.V_PD_OPS_BIZ_TPUT_DTL \\\n",
    "WHERE DISC_ATB_DT BETWEEN '{}' AND '{}' AND EVENT_C = 'DISC'\".format(START_DT, END_DT)"
   ]
  },
  {
   "cell_type": "code",
   "execution_count": 17,
   "metadata": {
    "scrolled": true
   },
   "outputs": [],
   "source": [
    "vol_discharge = pd.read_sql(vol_sql_discharge, CONNECTION)"
   ]
  },
  {
   "cell_type": "markdown",
   "metadata": {},
   "source": [
    "Preprocess"
   ]
  },
  {
   "cell_type": "code",
   "execution_count": 18,
   "metadata": {},
   "outputs": [],
   "source": [
    "vol_discharge = strip_str_cols(vol_discharge)"
   ]
  },
  {
   "cell_type": "code",
   "execution_count": 19,
   "metadata": {},
   "outputs": [],
   "source": [
    "vol_discharge.loc[vol_discharge[\"disc_consortium_c\"] == \"\", \"disc_consortium_c\"] = None"
   ]
  },
  {
   "cell_type": "markdown",
   "metadata": {},
   "source": [
    "Get Direction"
   ]
  },
  {
   "cell_type": "code",
   "execution_count": 20,
   "metadata": {},
   "outputs": [],
   "source": [
    "vol_discharge = vol_discharge.merge(vsl_dtl,\n",
    "                                    how=\"left\",\n",
    "                                    left_on=[\"disc_abbr_vessel_m\", \"disc_abbr_voyage_in_n\"],\n",
    "                                    right_on=[\"abbr_vessel_m\", \"abbr_voyage_in_n\"])"
   ]
  },
  {
   "cell_type": "markdown",
   "metadata": {},
   "source": [
    "Generate CSD"
   ]
  },
  {
   "cell_type": "code",
   "execution_count": 21,
   "metadata": {},
   "outputs": [],
   "source": [
    "vol_discharge = generate_csd(df=vol_discharge,\n",
    "                             consortium=\"disc_consortium_c\",\n",
    "                             line=\"disc_line_c\",\n",
    "                             service=\"disc_service_c\",\n",
    "                             direction=\"direction_c\")"
   ]
  },
  {
   "cell_type": "markdown",
   "metadata": {},
   "source": [
    "Generate General CSD"
   ]
  },
  {
   "cell_type": "code",
   "execution_count": 22,
   "metadata": {},
   "outputs": [],
   "source": [
    "vol_discharge = generate_general_csd(df=vol_discharge)"
   ]
  },
  {
   "cell_type": "markdown",
   "metadata": {},
   "source": [
    "<h3> Load </h3>"
   ]
  },
  {
   "cell_type": "code",
   "execution_count": 23,
   "metadata": {},
   "outputs": [],
   "source": [
    "vol_sql_load = \"SELECT * FROM reportadmin.V_PD_OPS_BIZ_TPUT_DTL \\\n",
    "WHERE LOAD_ATB_DT BETWEEN '{}' AND '{}' AND EVENT_C = 'LOAD'\".format(START_DT, END_DT)"
   ]
  },
  {
   "cell_type": "code",
   "execution_count": 24,
   "metadata": {},
   "outputs": [],
   "source": [
    "vol_load = pd.read_sql(vol_sql_load, CONNECTION)"
   ]
  },
  {
   "cell_type": "markdown",
   "metadata": {},
   "source": [
    "Preprocess"
   ]
  },
  {
   "cell_type": "code",
   "execution_count": 25,
   "metadata": {},
   "outputs": [],
   "source": [
    "vol_load = strip_str_cols(vol_load)"
   ]
  },
  {
   "cell_type": "code",
   "execution_count": 26,
   "metadata": {},
   "outputs": [],
   "source": [
    "vol_load.loc[vol_load[\"load_consortium_c\"] == \"\", \"load_consortium_c\"] = None"
   ]
  },
  {
   "cell_type": "markdown",
   "metadata": {},
   "source": [
    "Get Direction"
   ]
  },
  {
   "cell_type": "code",
   "execution_count": 27,
   "metadata": {},
   "outputs": [],
   "source": [
    "vol_load = vol_load.merge(vsl_dtl,\n",
    "                          how=\"left\",\n",
    "                          left_on=[\"load_abbr_vessel_m\", \"load_abbr_voyage_out_n\"],\n",
    "                          right_on=[\"abbr_vessel_m\", \"abbr_voyage_out_n\"])"
   ]
  },
  {
   "cell_type": "markdown",
   "metadata": {},
   "source": [
    " Generate CSD"
   ]
  },
  {
   "cell_type": "code",
   "execution_count": 28,
   "metadata": {},
   "outputs": [],
   "source": [
    "vol_load = generate_csd(df=vol_load,\n",
    "                        consortium=\"load_consortium_c\",\n",
    "                        line=\"load_line_c\",\n",
    "                        service=\"load_service_c\",\n",
    "                        direction=\"direction_c\")"
   ]
  },
  {
   "cell_type": "markdown",
   "metadata": {},
   "source": [
    "Generate General CSD"
   ]
  },
  {
   "cell_type": "code",
   "execution_count": 29,
   "metadata": {},
   "outputs": [],
   "source": [
    "vol_load = generate_general_csd(df=vol_load)"
   ]
  },
  {
   "cell_type": "markdown",
   "metadata": {},
   "source": [
    "# Define PSA Week"
   ]
  },
  {
   "cell_type": "code",
   "execution_count": 30,
   "metadata": {
    "scrolled": true
   },
   "outputs": [],
   "source": [
    "vsl_util = define_week_num(df=vsl_util, psa_week=psa_week, reference_dt_col=\"first_atb_dt\")\n",
    "vsl_util = define_year(df=vsl_util, psa_week=psa_week, reference_dt_col=\"first_atb_dt\")"
   ]
  },
  {
   "cell_type": "code",
   "execution_count": 31,
   "metadata": {},
   "outputs": [],
   "source": [
    "vol_discharge = define_week_num(df=vol_discharge, psa_week=psa_week, reference_dt_col=\"disc_atb_dt\")\n",
    "vol_discharge = define_year(df=vol_discharge, psa_week=psa_week, reference_dt_col=\"disc_atb_dt\")"
   ]
  },
  {
   "cell_type": "code",
   "execution_count": 32,
   "metadata": {},
   "outputs": [],
   "source": [
    "vol_load = define_week_num(df=vol_load, psa_week=psa_week, reference_dt_col=\"load_atb_dt\")\n",
    "vol_load = define_year(df=vol_load, psa_week=psa_week, reference_dt_col=\"load_atb_dt\")"
   ]
  },
  {
   "cell_type": "code",
   "execution_count": 33,
   "metadata": {
    "scrolled": true
   },
   "outputs": [
    {
     "data": {
      "text/plain": [
       "Index(['event_d', 'event_hour_t', 'event_c', 'disc_abbr_vessel_m',\n",
       "       'disc_abbr_voyage_in_n', 'disc_berth_seq_n', 'disc_atb_dt',\n",
       "       'disc_tsa_ref_c', 'disc_derived_atb_d', 'disc_berth_m', 'disc_line_c',\n",
       "       'disc_consortium_c', 'disc_service_c', 'disc_slot_opr_c',\n",
       "       'load_abbr_vessel_m', 'load_abbr_voyage_out_n', 'load_berth_seq_n',\n",
       "       'load_atb_dt', 'load_tsa_ref_c', 'load_derived_atb_d', 'load_berth_m',\n",
       "       'load_line_c', 'load_consortium_c', 'load_service_c', 'load_slot_opr_c',\n",
       "       'cntr_opr_c', 'load_port_c', 'disc_port1_c', 'disc_port2_c',\n",
       "       'disc_port3_c', 'dest_port_c', 'derived_cntr_purp_c',\n",
       "       'derived_cntr_type_c', 'length_q', 'cntr_st_c', 'cat_c', 'cntr_type_c',\n",
       "       'special_detail_x', 'dg_group_c', 'dg_imo_class_c', 'reefer_temp_q',\n",
       "       'rent_i', 'over_size_i', 'uc_i', 'berth_opr_org_c', 'deviate_reason_c',\n",
       "       'bill_op_i', 'batch_id', 'box_q', 'teu_q', 'abbr_vessel_m',\n",
       "       'abbr_voyage_out_n', 'abbr_voyage_in_n', 'direction_c', 'CSD',\n",
       "       'general_CSD', 'week', 'year'],\n",
       "      dtype='object')"
      ]
     },
     "execution_count": 33,
     "metadata": {},
     "output_type": "execute_result"
    }
   ],
   "source": [
    "vol_load.columns"
   ]
  },
  {
   "cell_type": "code",
   "execution_count": 34,
   "metadata": {},
   "outputs": [],
   "source": [
    "vol_load.groupby([\"week\", \"dest_port_c\"]).agg({\"teu_q\": \"sum\"}).reset_index().to_csv(\"pod.csv\", index=False)"
   ]
  },
  {
   "cell_type": "markdown",
   "metadata": {},
   "source": [
    "# Group by CSD"
   ]
  },
  {
   "cell_type": "markdown",
   "metadata": {},
   "source": [
    "Vsl Util"
   ]
  },
  {
   "cell_type": "code",
   "execution_count": 35,
   "metadata": {},
   "outputs": [],
   "source": [
    "csd_util = vsl_util.groupby([\"CSD\", \"year\", \"week\"]).agg({\"vv_c\": \"count\",\n",
    "                                                          \"vsl_capacity_teu_q\": \"sum\",\n",
    "                                                          \"inbound_teu_q\": \"sum\",\n",
    "                                                          \"outbound_teu_q\": \"sum\"}).reset_index(drop=False)"
   ]
  },
  {
   "cell_type": "code",
   "execution_count": 36,
   "metadata": {
    "scrolled": true
   },
   "outputs": [],
   "source": [
    "csd_util.loc[:, \"inbound_util_p\"] = csd_util.loc[:, \"inbound_teu_q\"] / csd_util.loc[:, \"vsl_capacity_teu_q\"]\n",
    "csd_util.loc[:, \"outbound_util_p\"] = csd_util.loc[:, \"outbound_teu_q\"] / csd_util.loc[:, \"vsl_capacity_teu_q\"]"
   ]
  },
  {
   "cell_type": "code",
   "execution_count": 37,
   "metadata": {},
   "outputs": [],
   "source": [
    "csd_util = csd_util.rename(columns={\"vv_c\": \"num_calls\"})"
   ]
  },
  {
   "cell_type": "markdown",
   "metadata": {},
   "source": [
    "Possible:\n",
    "\n",
    "<ul> Container type </ul>\n",
    "<ul> Load port </ul>\n",
    "<ul> Disc port </ul>"
   ]
  },
  {
   "cell_type": "markdown",
   "metadata": {},
   "source": [
    "Volume -- Discharge"
   ]
  },
  {
   "cell_type": "code",
   "execution_count": 38,
   "metadata": {},
   "outputs": [],
   "source": [
    "csd_disc = vol_discharge.groupby([\"CSD\", \"cntr_st_c\", \"year\", \"week\"]).agg({\"disc_abbr_vessel_m\": \"nunique\",\n",
    "                                                                            \"teu_q\": \"sum\"}).reset_index(drop=False)"
   ]
  },
  {
   "cell_type": "code",
   "execution_count": 39,
   "metadata": {},
   "outputs": [],
   "source": [
    "csd_disc = csd_disc.rename(columns={\"disc_abbr_vessel_m\": \"num_calls\"})"
   ]
  },
  {
   "cell_type": "markdown",
   "metadata": {},
   "source": [
    "Volume -- Load"
   ]
  },
  {
   "cell_type": "code",
   "execution_count": 40,
   "metadata": {},
   "outputs": [],
   "source": [
    "csd_load = vol_load.groupby([\"CSD\", \"cntr_st_c\", \"year\", \"week\"]).agg({\"load_abbr_vessel_m\": \"nunique\",\n",
    "                                                                       \"teu_q\": \"sum\"}).reset_index(drop=False)"
   ]
  },
  {
   "cell_type": "code",
   "execution_count": 41,
   "metadata": {},
   "outputs": [],
   "source": [
    "csd_load = csd_load.rename(columns={\"load_abbr_vessel_m\": \"num_calls\"})"
   ]
  },
  {
   "cell_type": "markdown",
   "metadata": {},
   "source": [
    "# Sort Values"
   ]
  },
  {
   "cell_type": "code",
   "execution_count": 42,
   "metadata": {},
   "outputs": [],
   "source": [
    "csd_util = csd_util.sort_values(by=[\"week\"], ascending=True)\n",
    "csd_disc = csd_disc.sort_values(by=[\"week\"], ascending=True)\n",
    "csd_load = csd_load.sort_values(by=[\"week\"], ascending=True)"
   ]
  },
  {
   "cell_type": "markdown",
   "metadata": {},
   "source": [
    "# EU2-W"
   ]
  },
  {
   "cell_type": "code",
   "execution_count": 43,
   "metadata": {},
   "outputs": [],
   "source": [
    "util_eu2_w = csd_util[csd_util[\"CSD\"].str.contains(\"EU2-W\")]\n",
    "vol_disc_eu2_w = csd_disc[csd_disc[\"CSD\"].str.contains(\"EU2-W\")]\n",
    "vol_load_eu2_w = csd_load[csd_load[\"CSD\"].str.contains(\"EU2-W\")]"
   ]
  },
  {
   "cell_type": "markdown",
   "metadata": {},
   "source": [
    "Plotting"
   ]
  },
  {
   "cell_type": "markdown",
   "metadata": {},
   "source": [
    "plot_chart(vol=vol_load_eu2_w, util=util_eu2_w, service=\"EU2-W\", discharge=False)"
   ]
  },
  {
   "cell_type": "markdown",
   "metadata": {},
   "source": [
    "# Group By General CSD"
   ]
  },
  {
   "cell_type": "markdown",
   "metadata": {},
   "source": [
    "Vsl Util"
   ]
  },
  {
   "cell_type": "code",
   "execution_count": 44,
   "metadata": {},
   "outputs": [],
   "source": [
    "general_csd_util = vsl_util.groupby([\"general_CSD\", \"year\", \"week\"]).agg({\"vv_c\": \"count\",\n",
    "                                                                          \"vsl_capacity_teu_q\": \"sum\",\n",
    "                                                                          \"inbound_teu_q\": \"sum\",\n",
    "                                                                          \"outbound_teu_q\": \"sum\"}).reset_index(drop=False)\n",
    "\n",
    "general_csd_util.loc[:, \"inbound_util_p\"] = general_csd_util.loc[:, \"inbound_teu_q\"] / general_csd_util.loc[:, \"vsl_capacity_teu_q\"]\n",
    "general_csd_util.loc[:, \"outbound_util_p\"] = general_csd_util.loc[:, \"outbound_teu_q\"] / general_csd_util.loc[:, \"vsl_capacity_teu_q\"]\n",
    "\n",
    "general_csd_util = general_csd_util.rename(columns={\"vv_c\": \"num_calls\"})\n",
    "\n",
    "general_csd_util = general_csd_util.sort_values(by=[\"week\"], ascending=True)"
   ]
  },
  {
   "cell_type": "markdown",
   "metadata": {},
   "source": [
    "Volume Discharge"
   ]
  },
  {
   "cell_type": "code",
   "execution_count": 45,
   "metadata": {},
   "outputs": [],
   "source": [
    "general_csd_disc = vol_discharge.groupby([\"general_CSD\", \"cntr_st_c\", \"year\", \"week\"]).agg({\"disc_abbr_vessel_m\": \"nunique\",\n",
    "                                                                                            \"teu_q\": \"sum\"}).reset_index(drop=False)\n",
    "\n",
    "general_csd_disc = general_csd_disc.rename(columns={\"disc_abbr_vessel_m\": \"num_calls\"})\n",
    "\n",
    "general_csd_disc = general_csd_disc.sort_values(by=[\"week\"], ascending=True)"
   ]
  },
  {
   "cell_type": "markdown",
   "metadata": {},
   "source": [
    "Volume Load"
   ]
  },
  {
   "cell_type": "code",
   "execution_count": 46,
   "metadata": {},
   "outputs": [],
   "source": [
    "general_csd_load = vol_load.groupby([\"general_CSD\", \"cntr_st_c\", \"year\", \"week\"]).agg({\"load_abbr_vessel_m\": \"nunique\",\n",
    "                                                                                       \"teu_q\": \"sum\"}).reset_index(drop=False)\n",
    "\n",
    "general_csd_load = general_csd_load.rename(columns={\"load_abbr_vessel_m\": \"num_calls\"})\n",
    "\n",
    "general_csd_load = general_csd_load.sort_values(by=[\"week\"], ascending=True)"
   ]
  },
  {
   "cell_type": "markdown",
   "metadata": {},
   "source": [
    "# EU-W"
   ]
  },
  {
   "cell_type": "code",
   "execution_count": 47,
   "metadata": {},
   "outputs": [],
   "source": [
    "util_eu_w = general_csd_util[general_csd_util[\"general_CSD\"].str.contains(\"EU-W\")]\n",
    "vol_disc_eu_w = general_csd_disc[general_csd_disc[\"general_CSD\"].str.contains(\"EU-W\")]\n",
    "vol_load_eu_w = general_csd_load[general_csd_load[\"general_CSD\"].str.contains(\"EU-W\")]"
   ]
  },
  {
   "cell_type": "markdown",
   "metadata": {},
   "source": [
    "plot_chart(vol=vol_load_eu_w, util=util_eu_w, service=\"EU-W\", discharge=False)"
   ]
  },
  {
   "cell_type": "markdown",
   "metadata": {},
   "source": [
    "Save to CSV"
   ]
  },
  {
   "cell_type": "code",
   "execution_count": 48,
   "metadata": {},
   "outputs": [],
   "source": [
    "util_eu_w.to_csv(\"util_eu_w.csv\", index=False)\n",
    "vol_disc_eu_w.to_csv(\"vol_disc_eu_w.csv\", index=False)\n",
    "vol_load_eu_w.to_csv(\"vol_load_eu_w.csv\", index=False)"
   ]
  },
  {
   "cell_type": "markdown",
   "metadata": {},
   "source": [
    "# ME-W"
   ]
  },
  {
   "cell_type": "markdown",
   "metadata": {},
   "source": [
    "util_me_w = general_csd_util[general_csd_util[\"general_CSD\"].str.contains(\"-ME-W\")]\n",
    "vol_disc_me_w = general_csd_disc[general_csd_disc[\"general_CSD\"].str.contains(\"-ME-W\")]\n",
    "vol_load_me_w = general_csd_load[general_csd_load[\"general_CSD\"].str.contains(\"-ME-W\")]"
   ]
  },
  {
   "cell_type": "markdown",
   "metadata": {},
   "source": [
    "util_me_w"
   ]
  },
  {
   "cell_type": "markdown",
   "metadata": {
    "scrolled": false
   },
   "source": [
    "plot_chart(vol=vol_load_me_w, util=util_me_w, service=\"ME-W\", discharge=False)"
   ]
  },
  {
   "cell_type": "markdown",
   "metadata": {},
   "source": [
    "Save to CSV"
   ]
  },
  {
   "cell_type": "markdown",
   "metadata": {},
   "source": [
    "util_me_w[util_me_w.year == 2019].to_csv(\"util_me_w.csv\", index=False)\n",
    "vol_disc_me_w[vol_disc_me_w.year == 2019].to_csv(\"vol_disc_me_w.csv\", index=False)\n",
    "vol_load_me_w[vol_load_me_w.year == 2019].to_csv(\"vol_load_me_w.csv\", index=False)"
   ]
  },
  {
   "cell_type": "markdown",
   "metadata": {},
   "source": [
    "# FE-W"
   ]
  },
  {
   "cell_type": "code",
   "execution_count": 49,
   "metadata": {},
   "outputs": [],
   "source": [
    "util_fe_w = general_csd_util[general_csd_util[\"general_CSD\"].str.contains(\"-FE-W\")]\n",
    "vol_disc_fe_w = general_csd_disc[general_csd_disc[\"general_CSD\"].str.contains(\"-FE-W\")]\n",
    "vol_load_fe_w = general_csd_load[general_csd_load[\"general_CSD\"].str.contains(\"-FE-W\")]"
   ]
  },
  {
   "cell_type": "markdown",
   "metadata": {
    "scrolled": false
   },
   "source": [
    "plot_chart(vol=vol_load_fe_w, util=util_fe_w, service=\"FE-W\", discharge=False)"
   ]
  },
  {
   "cell_type": "code",
   "execution_count": 50,
   "metadata": {},
   "outputs": [],
   "source": [
    "util_fe_w.to_csv(\"util_fe_w.csv\", index=False)\n",
    "vol_disc_fe_w.to_csv(\"vol_disc_fe_w.csv\", index=False)\n",
    "vol_load_fe_w.to_csv(\"vol_load_fe_w.csv\", index=False)"
   ]
  },
  {
   "cell_type": "markdown",
   "metadata": {},
   "source": [
    "# EU-E"
   ]
  },
  {
   "cell_type": "markdown",
   "metadata": {},
   "source": [
    "util_eu_e = general_csd_util[general_csd_util[\"general_CSD\"].str.contains(\"-EU-E\")]\n",
    "vol_disc_eu_e = general_csd_disc[general_csd_disc[\"general_CSD\"].str.contains(\"-EU-E\")]\n",
    "vol_load_eu_e = general_csd_load[general_csd_load[\"general_CSD\"].str.contains(\"-EU-E\")]"
   ]
  },
  {
   "cell_type": "markdown",
   "metadata": {},
   "source": [
    "plot_chart(vol=vol_load_eu_e, util=util_eu_e, service=\"EU-E\", discharge=False)"
   ]
  },
  {
   "cell_type": "markdown",
   "metadata": {},
   "source": [
    "util_eu_e"
   ]
  },
  {
   "cell_type": "code",
   "execution_count": null,
   "metadata": {},
   "outputs": [],
   "source": []
  }
 ],
 "metadata": {
  "kernelspec": {
   "display_name": "Python 3",
   "language": "python",
   "name": "python3"
  },
  "language_info": {
   "codemirror_mode": {
    "name": "ipython",
    "version": 3
   },
   "file_extension": ".py",
   "mimetype": "text/x-python",
   "name": "python",
   "nbconvert_exporter": "python",
   "pygments_lexer": "ipython3",
   "version": "3.7.3"
  }
 },
 "nbformat": 4,
 "nbformat_minor": 2
}
